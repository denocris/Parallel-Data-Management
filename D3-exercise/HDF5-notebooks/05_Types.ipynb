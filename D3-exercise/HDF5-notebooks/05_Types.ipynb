{
 "cells": [
  {
   "cell_type": "markdown",
   "metadata": {},
   "source": [
    "# Types 101\n",
    "\n",
    "**Source:** *Python and HDF5* by Andrew Collette, O'Reilly 2013.\n",
    "\n",
    "<img src=\"./img/scissors.jpg\" />\n",
    "\n",
    "The datatype API the second largest API in HDF5. The HDF5 type system is extremely flexible (*dangerous!*). Combined with poor judgment it's a quick way to lose friends.\n",
    "\n",
    "Most applications support a repertoire of standard types and nothing else. Keeping your types as simple as possible (but not simpler!) increases your chances that applications will handle them gracefully.\n",
    "\n",
    "| HDF5 type class           | NumPy equivalent                                                |\n",
    "|---------------------------|-----------------------------------------------------------------|\n",
    "| Integer                   | `dtype(\"i\")`                                                    |\n",
    "| Float                     | `dtype(\"f\")`                                                    |\n",
    "| Strings (fixed length)    | `dtype(\"S10\")`                                                  |\n",
    "| Strings (variable length) | `h5py.special_stype(vlen=bytes)`                                |\n",
    "| Compound                  | `dtype([ (\"field1\": \"i\"), (\"field2\": \"f\") ])`                   |\n",
    "| Enum                      | `h5p.special_dtype(enum=(\"i\", {\"RED\":0, \"GREEN\":1, \"BLUE\":2}))` |\n",
    "| Array                     | `dtype(\"(2,2)f\")`                                               |\n",
    "| Opaque                    | `dtype(\"V10\")`                                                  |\n",
    "| Reference                 | `h5py.special_dtype(ref=h5py.Reference)`                        |\n",
    "| Variable-length sequence  | N/A                                                             |  \n",
    "\n",
    "#### Additional Python-side types\n",
    "\n",
    "| Python type | Numpy expression      | Stored in HDF5 as                     |\n",
    "|-------------|-----------------------|---------------------------------------|\n",
    "| Boolean     | `np.dtype(\"bool\")`    | HDF5 enum with `FALSE=0`, `TRUE=1`    |\n",
    "| Complex     | `np.dtype(\"complex\")` | HDF5 compound with fields `r` and `i` |\n",
    "\n",
    "## Advanced Topics for Discussion\n",
    "\n",
    "- Strings in Python 2 and 3, Unicode\n",
    "- HDF5 object and dataset region references"
   ]
  }
 ],
 "metadata": {
  "kernelspec": {
   "display_name": "Python 2",
   "language": "python",
   "name": "python2"
  },
  "language_info": {
   "codemirror_mode": {
    "name": "ipython",
    "version": 2
   },
   "file_extension": ".py",
   "mimetype": "text/x-python",
   "name": "python",
   "nbconvert_exporter": "python",
   "pygments_lexer": "ipython2",
   "version": "2.7.12"
  }
 },
 "nbformat": 4,
 "nbformat_minor": 0
}
