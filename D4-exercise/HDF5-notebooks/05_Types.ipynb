{
 "cells": [
  {
   "cell_type": "markdown",
   "metadata": {},
   "source": [
    "# Types 101\n",
    "\n",
    "**Source:** *Python and HDF5* by Andrew Collette, O'Reilly 2013.\n",
    "\n",
    "<img src=\"./img/scissors.jpg\" />\n",
    "\n",
    "The datatype API the second largest API in HDF5. The HDF5 type system is extremely flexible (*dangerous!*). Combined with poor judgment it's a quick way to lose friends.\n",
    "\n",
    "Most applications support a repertoire of standard types and nothing else. Keeping your types as simple as possible (but not simpler!) increases your chances that applications will handle them gracefully.\n",
    "\n",
    "| HDF5 type class           | NumPy equivalent                                                |\n",
    "|---------------------------|-----------------------------------------------------------------|\n",
    "| Integer                   | `dtype(\"i\")`                                                    |\n",
    "| Float                     | `dtype(\"f\")`                                                    |\n",
    "| Strings (fixed length)    | `dtype(\"S10\")`                                                  |\n",
    "| Strings (variable length) | `h5py.special_stype(vlen=bytes)`                                |\n",
    "| Compound                  | `dtype([ (\"field1\": \"i\"), (\"field2\": \"f\") ])`                   |\n",
    "| Enum                      | `h5p.special_dtype(enum=(\"i\", {\"RED\":0, \"GREEN\":1, \"BLUE\":2}))` |\n",
    "| Array                     | `dtype(\"(2,2)f\")`                                               |\n",
    "| Opaque                    | `dtype(\"V10\")`                                                  |\n",
    "| Reference                 | `h5py.special_dtype(ref=h5py.Reference)`                        |\n",
    "| Variable-length sequence  | N/A                                                             |  \n",
    "\n",
    "#### Additional Python-side types\n",
    "\n",
    "| Python type | Numpy expression      | Stored in HDF5 as                     |\n",
    "|-------------|-----------------------|---------------------------------------|\n",
    "| Boolean     | `np.dtype(\"bool\")`    | HDF5 enum with `FALSE=0`, `TRUE=1`    |\n",
    "| Complex     | `np.dtype(\"complex\")` | HDF5 compound with fields `r` and `i` |\n"
   ]
  },
  {
   "cell_type": "code",
   "execution_count": 5,
   "metadata": {
    "collapsed": true
   },
   "outputs": [],
   "source": [
    "import numpy as np"
   ]
  },
  {
   "cell_type": "code",
   "execution_count": 6,
   "metadata": {
    "collapsed": true
   },
   "outputs": [],
   "source": [
    "import h5py"
   ]
  },
  {
   "cell_type": "code",
   "execution_count": 7,
   "metadata": {
    "collapsed": false
   },
   "outputs": [],
   "source": [
    "f=h5py.File(\"typedemo.h5\")"
   ]
  },
  {
   "cell_type": "code",
   "execution_count": 8,
   "metadata": {
    "collapsed": true
   },
   "outputs": [],
   "source": [
    "dset=f.create_dataset(\"smallint\", (10,),dtype=np.int8)"
   ]
  },
  {
   "cell_type": "code",
   "execution_count": 9,
   "metadata": {
    "collapsed": true
   },
   "outputs": [],
   "source": [
    "dset[0]=300"
   ]
  },
  {
   "cell_type": "code",
   "execution_count": 10,
   "metadata": {
    "collapsed": false
   },
   "outputs": [
    {
     "data": {
      "text/plain": [
       "127"
      ]
     },
     "execution_count": 10,
     "metadata": {},
     "output_type": "execute_result"
    }
   ],
   "source": [
    "dset[0]"
   ]
  },
  {
   "cell_type": "code",
   "execution_count": 17,
   "metadata": {
    "collapsed": false
   },
   "outputs": [],
   "source": [
    "a= np.zeros((10,), dtype=np.int8)"
   ]
  },
  {
   "cell_type": "code",
   "execution_count": 18,
   "metadata": {
    "collapsed": false
   },
   "outputs": [
    {
     "data": {
      "text/plain": [
       "array([0, 0, 0, 0, 0, 0, 0, 0, 0, 0], dtype=int8)"
      ]
     },
     "execution_count": 18,
     "metadata": {},
     "output_type": "execute_result"
    }
   ],
   "source": [
    "a "
   ]
  },
  {
   "cell_type": "code",
   "execution_count": 19,
   "metadata": {
    "collapsed": true
   },
   "outputs": [],
   "source": [
    "a[0]=300"
   ]
  },
  {
   "cell_type": "code",
   "execution_count": 26,
   "metadata": {
    "collapsed": false
   },
   "outputs": [
    {
     "data": {
      "text/plain": [
       "127"
      ]
     },
     "execution_count": 26,
     "metadata": {},
     "output_type": "execute_result"
    }
   ],
   "source": [
    "a[0]"
   ]
  },
  {
   "cell_type": "markdown",
   "metadata": {},
   "source": [
    "What is happening here above ? \n",
    "\n",
    "Keep in mind that the default behavior for HDF5 when\n",
    "storing a too-large value in a too-small dataset is to clip, not to “roll over” like some\n",
    "versions of NumPy..."
   ]
  }
 ],
 "metadata": {
  "kernelspec": {
   "display_name": "Python 2",
   "language": "python",
   "name": "python2"
  },
  "language_info": {
   "codemirror_mode": {
    "name": "ipython",
    "version": 2
   },
   "file_extension": ".py",
   "mimetype": "text/x-python",
   "name": "python",
   "nbconvert_exporter": "python",
   "pygments_lexer": "ipython2",
   "version": "2.7.12"
  }
 },
 "nbformat": 4,
 "nbformat_minor": 0
}
