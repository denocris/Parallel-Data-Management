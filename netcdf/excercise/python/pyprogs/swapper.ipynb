{
 "cells": [
  {
   "cell_type": "code",
   "execution_count": 1,
   "metadata": {
    "collapsed": true
   },
   "outputs": [],
   "source": [
    "import numpy as np\n",
    "from netCDF4 import Dataset"
   ]
  },
  {
   "cell_type": "code",
   "execution_count": 2,
   "metadata": {
    "collapsed": false
   },
   "outputs": [
    {
     "name": "stdout",
     "output_type": "stream",
     "text": [
      "JC2010_stations.nc\r\n"
     ]
    }
   ],
   "source": [
    "!ls JC2010_stations.nc"
   ]
  },
  {
   "cell_type": "code",
   "execution_count": 3,
   "metadata": {
    "collapsed": false
   },
   "outputs": [],
   "source": [
    "oldfile = Dataset(\"JC2010_stations.nc\", \"r\")\n",
    "\n",
    "newfile = Dataset(\"JC2010_stations_new.nc\", \"w\")\n",
    "\n",
    "\n"
   ]
  },
  {
   "cell_type": "code",
   "execution_count": 4,
   "metadata": {
    "collapsed": false
   },
   "outputs": [
    {
     "name": "stdout",
     "output_type": "stream",
     "text": [
      "dname station\n",
      "the_dim <type 'netCDF4._netCDF4.Dimension'>: name = 'station', size = 707\n",
      "\n",
      "len(the_dim) 707\n",
      "dname time\n",
      "the_dim <type 'netCDF4._netCDF4.Dimension'>: name = 'time', size = 17501\n",
      "\n",
      "len(the_dim) 17501\n",
      "dname codelen\n",
      "the_dim <type 'netCDF4._netCDF4.Dimension'>: name = 'codelen', size = 56\n",
      "\n",
      "len(the_dim) 56\n"
     ]
    }
   ],
   "source": [
    "for dname, the_dim in oldfile.dimensions.iteritems():\n",
    "    print \"dname\", dname\n",
    "    print \"the_dim\", the_dim\n",
    "    print \"len(the_dim)\", len(the_dim)\n",
    "    newfile.createDimension(dname, len(the_dim) if not the_dim.isunlimited() else None)\n",
    "    \n",
    "\n",
    "    \n",
    "\n",
    "#print newfile.dimensions()\n",
    "    \n",
    "    "
   ]
  },
  {
   "cell_type": "code",
   "execution_count": null,
   "metadata": {
    "collapsed": false
   },
   "outputs": [],
   "source": [
    "for vname, varin in oldfile.variables.iteritems():\n",
    "    if vname != \"schnee\":\n",
    "        outvar = newfile.createVariable(vname, varin.datatype, varin.dimensions )\n",
    "        outvar[:] = varin[:]\n",
    "    else:\n",
    "        newdim=[varin.dimensions[1],varin.dimensions[0]]\n",
    "        outvar = newfile.createVariable(vname, varin.datatype, newdim )\n",
    "        outvar[:] = oldfile.variables[\"schnee\"][:].transpose()\n",
    "    print varin.datatype\n",
    "    "
   ]
  },
  {
   "cell_type": "code",
   "execution_count": null,
   "metadata": {
    "collapsed": true
   },
   "outputs": [],
   "source": [
    "newfile.close()"
   ]
  },
  {
   "cell_type": "code",
   "execution_count": null,
   "metadata": {
    "collapsed": true
   },
   "outputs": [],
   "source": [
    "test_new = Dataset(\"JC2010_stations_new.nc\", \"r\")\n"
   ]
  },
  {
   "cell_type": "code",
   "execution_count": null,
   "metadata": {
    "collapsed": false
   },
   "outputs": [],
   "source": [
    "oldfile.variables"
   ]
  },
  {
   "cell_type": "code",
   "execution_count": null,
   "metadata": {
    "collapsed": false
   },
   "outputs": [],
   "source": [
    "test_new.variables"
   ]
  },
  {
   "cell_type": "code",
   "execution_count": 5,
   "metadata": {
    "collapsed": false
   },
   "outputs": [
    {
     "data": {
      "text/plain": [
       "OrderedDict([(u'station',\n",
       "              <type 'netCDF4._netCDF4.Dimension'>: name = 'station', size = 707),\n",
       "             (u'time',\n",
       "              <type 'netCDF4._netCDF4.Dimension'>: name = 'time', size = 17501),\n",
       "             (u'codelen',\n",
       "              <type 'netCDF4._netCDF4.Dimension'>: name = 'codelen', size = 56)])"
      ]
     },
     "execution_count": 5,
     "metadata": {},
     "output_type": "execute_result"
    }
   ],
   "source": [
    "oldfile.dimensions"
   ]
  },
  {
   "cell_type": "code",
   "execution_count": null,
   "metadata": {
    "collapsed": false
   },
   "outputs": [],
   "source": [
    "oldfile.variables[\"schnee\"]"
   ]
  },
  {
   "cell_type": "code",
   "execution_count": null,
   "metadata": {
    "collapsed": false
   },
   "outputs": [],
   "source": [
    "oldfile.variables[\"schnee\"].shape"
   ]
  }
 ],
 "metadata": {
  "anaconda-cloud": {},
  "kernelspec": {
   "display_name": "Python [default]",
   "language": "python",
   "name": "python2"
  },
  "language_info": {
   "codemirror_mode": {
    "name": "ipython",
    "version": 2
   },
   "file_extension": ".py",
   "mimetype": "text/x-python",
   "name": "python",
   "nbconvert_exporter": "python",
   "pygments_lexer": "ipython2",
   "version": "2.7.12"
  }
 },
 "nbformat": 4,
 "nbformat_minor": 1
}
