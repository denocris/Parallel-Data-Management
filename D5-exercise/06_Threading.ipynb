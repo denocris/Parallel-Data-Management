{
 "cells": [
  {
   "cell_type": "markdown",
   "metadata": {},
   "source": [
    "# Threading\n",
    "\n",
    "**Source:** *Python and HDF5* by Andrew Collette, O'Reilly 2013.\n",
    "\n",
    "<img src=\"./img/MT.png\" width=600/>\n",
    "\n",
    "Currently, the HDF5 library does not use multiple threads internally and most binary versions are not built with thread-saftey enabled. You have **two options**:\n",
    "\n",
    "1. Compile a version of the HDF5 library with thread-safety enabled.\n",
    "2. Use the non-thread-safe version and carefully schedule (synchronize) the thread access to HDF5 structures."
   ]
  },
  {
   "cell_type": "code",
   "execution_count": 11,
   "metadata": {
    "collapsed": false
   },
   "outputs": [],
   "source": [
    "import numpy as np, h5py, threading, random, time, timeit"
   ]
  },
  {
   "cell_type": "code",
   "execution_count": 12,
   "metadata": {
    "collapsed": true
   },
   "outputs": [],
   "source": [
    "f = h5py.File(\"thread_demo.hdf5\", \"w\")"
   ]
  },
  {
   "cell_type": "code",
   "execution_count": 13,
   "metadata": {
    "collapsed": true
   },
   "outputs": [],
   "source": [
    "dset = f.create_dataset(\"data\", (2, 1024), dtype='f')"
   ]
  },
  {
   "cell_type": "markdown",
   "metadata": {},
   "source": [
    "We will use two threads to update this dataset. One thread writes the first row and another thread writes the second row.\n",
    "\n",
    "We use a *lock* to ensure that only one thread writes to the dataset (i.e., uses the HDF5 library)."
   ]
  },
  {
   "cell_type": "code",
   "execution_count": 14,
   "metadata": {
    "collapsed": true
   },
   "outputs": [],
   "source": [
    "lock = threading.RLock()"
   ]
  },
  {
   "cell_type": "code",
   "execution_count": 15,
   "metadata": {
    "collapsed": true
   },
   "outputs": [],
   "source": [
    "class ComputeThread(threading.Thread):\n",
    "    \n",
    "    def __init__(self, axis):\n",
    "        self.axis = axis   # One thread does dset[0,:], the other dset[1, :].\n",
    "        threading.Thread.__init__(self)\n",
    "    \n",
    "    def run(self):\n",
    "        \"\"\" Perform a series of (simulated) computations and save to dataset.\n",
    "        \"\"\"\n",
    "        for idx in range(1024):\n",
    "            random_number = random.random()*0.01\n",
    "            time.sleep(random_number)               # Perform computation\n",
    "            with lock:\n",
    "                dset[self.axis, idx] = random_number     # Save to dataset"
   ]
  },
  {
   "cell_type": "code",
   "execution_count": 18,
   "metadata": {
    "collapsed": true
   },
   "outputs": [],
   "source": [
    "thread1 = ComputeThread(0)"
   ]
  },
  {
   "cell_type": "code",
   "execution_count": 19,
   "metadata": {
    "collapsed": true
   },
   "outputs": [],
   "source": [
    "thread2 = ComputeThread(1)"
   ]
  },
  {
   "cell_type": "code",
   "execution_count": 20,
   "metadata": {
    "collapsed": false
   },
   "outputs": [],
   "source": [
    "thread1.start()\n",
    "thread2.start()"
   ]
  },
  {
   "cell_type": "markdown",
   "metadata": {},
   "source": [
    "Wait until both threads have finished."
   ]
  },
  {
   "cell_type": "code",
   "execution_count": 23,
   "metadata": {
    "collapsed": true
   },
   "outputs": [],
   "source": [
    "thread1.join()\n",
    "thread2.join()"
   ]
  },
  {
   "cell_type": "code",
   "execution_count": null,
   "metadata": {
    "collapsed": true
   },
   "outputs": [],
   "source": []
  }
 ],
 "metadata": {
  "kernelspec": {
   "display_name": "Python 2",
   "language": "python",
   "name": "python2"
  },
  "language_info": {
   "codemirror_mode": {
    "name": "ipython",
    "version": 2
   },
   "file_extension": ".py",
   "mimetype": "text/x-python",
   "name": "python",
   "nbconvert_exporter": "python",
   "pygments_lexer": "ipython2",
   "version": "2.7.12"
  }
 },
 "nbformat": 4,
 "nbformat_minor": 0
}
